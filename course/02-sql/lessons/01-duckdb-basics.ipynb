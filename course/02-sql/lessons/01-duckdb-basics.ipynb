{
 "cells": [
  {
   "cell_type": "markdown",
   "metadata": {},
   "source": [
    "The SQL component to the is course will use DuckDB— an _in-memory_ analytics engine that let's you write full-featured SQL without the need for a stand-alone database.\n",
    "\n",
    "If you nerd out over that stuff, like me, you can read more [here](https://open.substack.com/pub/casewhen/p/data-explained-what-is-duckdb?r=rnul&utm_campaign=post&utm_medium=web). \n",
    "\n",
    "For now, you can just assume that the following code will load DuckDB + the necessary datasets, so you can sit back and relax:"
   ]
  },
  {
   "cell_type": "code",
   "execution_count": 1,
   "metadata": {},
   "outputs": [],
   "source": [
    "import duckdb\n",
    "\n",
    "# Load SQL extension\n",
    "%load_ext sql"
   ]
  },
  {
   "cell_type": "code",
   "execution_count": 2,
   "metadata": {},
   "outputs": [],
   "source": [
    "# Initialize 🦆 DuckDB connection\n",
    "conn = duckdb.connect()"
   ]
  },
  {
   "cell_type": "code",
   "execution_count": 4,
   "metadata": {},
   "outputs": [
    {
     "data": {
      "text/plain": [
       "<duckdb.duckdb.DuckDBPyConnection at 0x76fa14c0b470>"
      ]
     },
     "execution_count": 4,
     "metadata": {},
     "output_type": "execute_result"
    }
   ],
   "source": [
    "# Import the database\n",
    "conn.execute(\"IMPORT DATABASE '../../data/nps'\")"
   ]
  },
  {
   "cell_type": "markdown",
   "metadata": {},
   "source": [
    "For now, you can run some queries : "
   ]
  },
  {
   "cell_type": "code",
   "execution_count": 6,
   "metadata": {},
   "outputs": [
    {
     "data": {
      "text/html": [
       "<div>\n",
       "<style scoped>\n",
       "    .dataframe tbody tr th:only-of-type {\n",
       "        vertical-align: middle;\n",
       "    }\n",
       "\n",
       "    .dataframe tbody tr th {\n",
       "        vertical-align: top;\n",
       "    }\n",
       "\n",
       "    .dataframe thead th {\n",
       "        text-align: right;\n",
       "    }\n",
       "</style>\n",
       "<table border=\"1\" class=\"dataframe\">\n",
       "  <thead>\n",
       "    <tr style=\"text-align: right;\">\n",
       "      <th></th>\n",
       "      <th>name</th>\n",
       "    </tr>\n",
       "  </thead>\n",
       "  <tbody>\n",
       "  </tbody>\n",
       "</table>\n",
       "</div>"
      ],
      "text/plain": [
       "Empty DataFrame\n",
       "Columns: [name]\n",
       "Index: []"
      ]
     },
     "execution_count": 6,
     "metadata": {},
     "output_type": "execute_result"
    }
   ],
   "source": [
    "#List All Tables\n",
    "conn.execute(\"SHOW TABLES\").fetchdf()"
   ]
  },
  {
   "cell_type": "code",
   "execution_count": 8,
   "metadata": {},
   "outputs": [
    {
     "data": {
      "text/html": [
       "<div>\n",
       "<style scoped>\n",
       "    .dataframe tbody tr th:only-of-type {\n",
       "        vertical-align: middle;\n",
       "    }\n",
       "\n",
       "    .dataframe tbody tr th {\n",
       "        vertical-align: top;\n",
       "    }\n",
       "\n",
       "    .dataframe thead th {\n",
       "        text-align: right;\n",
       "    }\n",
       "</style>\n",
       "<table border=\"1\" class=\"dataframe\">\n",
       "  <thead>\n",
       "    <tr style=\"text-align: right;\">\n",
       "      <th></th>\n",
       "      <th>oid</th>\n",
       "      <th>nspname</th>\n",
       "      <th>nspowner</th>\n",
       "      <th>nspacl</th>\n",
       "    </tr>\n",
       "  </thead>\n",
       "  <tbody>\n",
       "    <tr>\n",
       "      <th>0</th>\n",
       "      <td>572</td>\n",
       "      <td>main</td>\n",
       "      <td>0</td>\n",
       "      <td>&lt;NA&gt;</td>\n",
       "    </tr>\n",
       "    <tr>\n",
       "      <th>1</th>\n",
       "      <td>1971</td>\n",
       "      <td>nps_public_data</td>\n",
       "      <td>0</td>\n",
       "      <td>&lt;NA&gt;</td>\n",
       "    </tr>\n",
       "  </tbody>\n",
       "</table>\n",
       "</div>"
      ],
      "text/plain": [
       "    oid          nspname  nspowner  nspacl\n",
       "0   572             main         0    <NA>\n",
       "1  1971  nps_public_data         0    <NA>"
      ]
     },
     "execution_count": 8,
     "metadata": {},
     "output_type": "execute_result"
    }
   ],
   "source": [
    "#Peek Inside a Table\n",
    "conn.execute(\"SELECT * FROM pg_namespace LIMIT 5\").fetchdf()"
   ]
  },
  {
   "cell_type": "code",
   "execution_count": null,
   "metadata": {},
   "outputs": [],
   "source": [
    "# Import database >> Skip this block of code\n",
    "%sql conn --alias duckdb\n",
    "%sql IMPORT DATABASE '../../data/nps';"
   ]
  },
  {
   "cell_type": "markdown",
   "metadata": {},
   "source": [
    "Now, we can focus on writing SQL! DuckDB is like any other variant— you can `SELECT` columns `FROM` some data source. (note we need `%%sql` at the beginning of the cell to make it work with our setup)"
   ]
  },
  {
   "cell_type": "code",
   "execution_count": null,
   "metadata": {},
   "outputs": [
    {
     "data": {
      "text/html": [
       "<div>\n",
       "<style scoped>\n",
       "    .dataframe tbody tr th:only-of-type {\n",
       "        vertical-align: middle;\n",
       "    }\n",
       "\n",
       "    .dataframe tbody tr th {\n",
       "        vertical-align: top;\n",
       "    }\n",
       "\n",
       "    .dataframe thead th {\n",
       "        text-align: right;\n",
       "    }\n",
       "</style>\n",
       "<table border=\"1\" class=\"dataframe\">\n",
       "  <thead>\n",
       "    <tr style=\"text-align: right;\">\n",
       "      <th></th>\n",
       "      <th>relevanceScore</th>\n",
       "      <th>designation</th>\n",
       "      <th>weatherInfo</th>\n",
       "      <th>addresses</th>\n",
       "      <th>operatingHours</th>\n",
       "      <th>entrancePasses</th>\n",
       "      <th>name</th>\n",
       "      <th>description</th>\n",
       "      <th>directionsUrl</th>\n",
       "      <th>fees</th>\n",
       "      <th>...</th>\n",
       "      <th>activities</th>\n",
       "      <th>url</th>\n",
       "      <th>longitude</th>\n",
       "      <th>id</th>\n",
       "      <th>images</th>\n",
       "      <th>directionsInfo</th>\n",
       "      <th>fullName</th>\n",
       "      <th>parkCode</th>\n",
       "      <th>latLong</th>\n",
       "      <th>latitude</th>\n",
       "    </tr>\n",
       "  </thead>\n",
       "  <tbody>\n",
       "    <tr>\n",
       "      <th>0</th>\n",
       "      <td>1</td>\n",
       "      <td>National Memorial</td>\n",
       "      <td>http://forecast.weather.gov/MapClick.php?CityN...</td>\n",
       "      <td>[{'type': 'Physical', 'line2': '', 'line1': '1...</td>\n",
       "      <td>[{'name': 'Hours of Operation', 'standardHours...</td>\n",
       "      <td>[]</td>\n",
       "      <td>Federal Hall</td>\n",
       "      <td>Here on Wall Street, George Washington took th...</td>\n",
       "      <td>http://www.nps.gov/feha/planyourvisit/directio...</td>\n",
       "      <td>[]</td>\n",
       "      <td>...</td>\n",
       "      <td>[{'name': 'Arts and Culture', 'id': '09DF0950-...</td>\n",
       "      <td>https://www.nps.gov/feha/index.htm</td>\n",
       "      <td>-74.010256</td>\n",
       "      <td>2337D255-2D32-4997-957A-D461EEA03AF8</td>\n",
       "      <td>[{'url': 'https://www.nps.gov/common/uploads/s...</td>\n",
       "      <td>The main entrance of Federal Hall is located a...</td>\n",
       "      <td>Federal Hall National Memorial</td>\n",
       "      <td>feha</td>\n",
       "      <td>lat:40.70731192, long:-74.01025636</td>\n",
       "      <td>40.707312</td>\n",
       "    </tr>\n",
       "  </tbody>\n",
       "</table>\n",
       "<p>1 rows × 24 columns</p>\n",
       "</div>"
      ],
      "text/plain": [
       "   relevanceScore        designation  \\\n",
       "0               1  National Memorial   \n",
       "\n",
       "                                         weatherInfo  \\\n",
       "0  http://forecast.weather.gov/MapClick.php?CityN...   \n",
       "\n",
       "                                           addresses  \\\n",
       "0  [{'type': 'Physical', 'line2': '', 'line1': '1...   \n",
       "\n",
       "                                      operatingHours entrancePasses  \\\n",
       "0  [{'name': 'Hours of Operation', 'standardHours...             []   \n",
       "\n",
       "           name                                        description  \\\n",
       "0  Federal Hall  Here on Wall Street, George Washington took th...   \n",
       "\n",
       "                                       directionsUrl fees  ...  \\\n",
       "0  http://www.nps.gov/feha/planyourvisit/directio...   []  ...   \n",
       "\n",
       "                                          activities  \\\n",
       "0  [{'name': 'Arts and Culture', 'id': '09DF0950-...   \n",
       "\n",
       "                                  url  longitude  \\\n",
       "0  https://www.nps.gov/feha/index.htm -74.010256   \n",
       "\n",
       "                                     id  \\\n",
       "0  2337D255-2D32-4997-957A-D461EEA03AF8   \n",
       "\n",
       "                                              images  \\\n",
       "0  [{'url': 'https://www.nps.gov/common/uploads/s...   \n",
       "\n",
       "                                      directionsInfo  \\\n",
       "0  The main entrance of Federal Hall is located a...   \n",
       "\n",
       "                         fullName parkCode  \\\n",
       "0  Federal Hall National Memorial     feha   \n",
       "\n",
       "                              latLong   latitude  \n",
       "0  lat:40.70731192, long:-74.01025636  40.707312  \n",
       "\n",
       "[1 rows x 24 columns]"
      ]
     },
     "execution_count": 10,
     "metadata": {},
     "output_type": "execute_result"
    }
   ],
   "source": [
    "#Since you already have a working DuckDB connection (conn), just run:\n",
    "conn.execute(\"SELECT * FROM nps_public_data.parks LIMIT 1\").fetchdf()"
   ]
  },
  {
   "cell_type": "code",
   "execution_count": null,
   "metadata": {},
   "outputs": [],
   "source": [
    "#Instead of :\n",
    "%%sql \n",
    "SELECT\n",
    "    *\n",
    "FROM nps_public_data.parks\n",
    "LIMIT 1\n",
    "#Skip this block of code"
   ]
  },
  {
   "cell_type": "code",
   "execution_count": 11,
   "metadata": {},
   "outputs": [
    {
     "data": {
      "text/html": [
       "<div>\n",
       "<style scoped>\n",
       "    .dataframe tbody tr th:only-of-type {\n",
       "        vertical-align: middle;\n",
       "    }\n",
       "\n",
       "    .dataframe tbody tr th {\n",
       "        vertical-align: top;\n",
       "    }\n",
       "\n",
       "    .dataframe thead th {\n",
       "        text-align: right;\n",
       "    }\n",
       "</style>\n",
       "<table border=\"1\" class=\"dataframe\">\n",
       "  <thead>\n",
       "    <tr style=\"text-align: right;\">\n",
       "      <th></th>\n",
       "      <th>lastIndexedDate</th>\n",
       "      <th>relevanceScore</th>\n",
       "      <th>accessibility</th>\n",
       "      <th>numberOfSitesFirstComeFirstServe</th>\n",
       "      <th>numberOfSitesReservable</th>\n",
       "      <th>multimedia</th>\n",
       "      <th>weatherOverview</th>\n",
       "      <th>images</th>\n",
       "      <th>addresses</th>\n",
       "      <th>campsites</th>\n",
       "      <th>...</th>\n",
       "      <th>audioDescription</th>\n",
       "      <th>parkCode</th>\n",
       "      <th>latLong</th>\n",
       "      <th>regulationsOverview</th>\n",
       "      <th>passportStampImages</th>\n",
       "      <th>latitude</th>\n",
       "      <th>url</th>\n",
       "      <th>longitude</th>\n",
       "      <th>contacts</th>\n",
       "      <th>id</th>\n",
       "    </tr>\n",
       "  </thead>\n",
       "  <tbody>\n",
       "    <tr>\n",
       "      <th>0</th>\n",
       "      <td></td>\n",
       "      <td>1.0</td>\n",
       "      <td>{'classifications': ['Designated Primitive Cam...</td>\n",
       "      <td>8</td>\n",
       "      <td>0</td>\n",
       "      <td>[]</td>\n",
       "      <td>See weather information for Lovell, WY or Brid...</td>\n",
       "      <td>[{'url': 'https://www.nps.gov/common/uploads/s...</td>\n",
       "      <td>[{'type': 'Physical', 'line2': 'Dayboard 32 - ...</td>\n",
       "      <td>{'walkBoatTo': 5, 'tentOnly': 5, 'horse': 0, '...</td>\n",
       "      <td>...</td>\n",
       "      <td></td>\n",
       "      <td>bica</td>\n",
       "      <td>{lat:45.110180659, lng:-108.204311581}</td>\n",
       "      <td>1. Overnight stays/camping in park is only all...</td>\n",
       "      <td>[]</td>\n",
       "      <td>45.110181</td>\n",
       "      <td>https://www.nps.gov/bica/planyourvisit/medicin...</td>\n",
       "      <td>-108.204312</td>\n",
       "      <td>{'emailAddresses': [{'emailAddress': 'BICA_med...</td>\n",
       "      <td>59D597C2-D37E-41A8-AEBA-FA0D219280D4</td>\n",
       "    </tr>\n",
       "  </tbody>\n",
       "</table>\n",
       "<p>1 rows × 33 columns</p>\n",
       "</div>"
      ],
      "text/plain": [
       "  lastIndexedDate  relevanceScore  \\\n",
       "0                             1.0   \n",
       "\n",
       "                                       accessibility  \\\n",
       "0  {'classifications': ['Designated Primitive Cam...   \n",
       "\n",
       "   numberOfSitesFirstComeFirstServe  numberOfSitesReservable multimedia  \\\n",
       "0                                 8                        0         []   \n",
       "\n",
       "                                     weatherOverview  \\\n",
       "0  See weather information for Lovell, WY or Brid...   \n",
       "\n",
       "                                              images  \\\n",
       "0  [{'url': 'https://www.nps.gov/common/uploads/s...   \n",
       "\n",
       "                                           addresses  \\\n",
       "0  [{'type': 'Physical', 'line2': 'Dayboard 32 - ...   \n",
       "\n",
       "                                           campsites  ... audioDescription  \\\n",
       "0  {'walkBoatTo': 5, 'tentOnly': 5, 'horse': 0, '...  ...                    \n",
       "\n",
       "  parkCode                                 latLong  \\\n",
       "0     bica  {lat:45.110180659, lng:-108.204311581}   \n",
       "\n",
       "                                 regulationsOverview passportStampImages  \\\n",
       "0  1. Overnight stays/camping in park is only all...                  []   \n",
       "\n",
       "    latitude                                                url   longitude  \\\n",
       "0  45.110181  https://www.nps.gov/bica/planyourvisit/medicin... -108.204312   \n",
       "\n",
       "                                            contacts  \\\n",
       "0  {'emailAddresses': [{'emailAddress': 'BICA_med...   \n",
       "\n",
       "                                     id  \n",
       "0  59D597C2-D37E-41A8-AEBA-FA0D219280D4  \n",
       "\n",
       "[1 rows x 33 columns]"
      ]
     },
     "execution_count": 11,
     "metadata": {},
     "output_type": "execute_result"
    }
   ],
   "source": [
    "#Load another data :\n",
    "conn.execute(\"SELECT * FROM nps_public_data.campgrounds LIMIT 1\").fetchdf()"
   ]
  },
  {
   "cell_type": "markdown",
   "metadata": {},
   "source": [
    "Because this is a _transformation_ focused course, we'll assume you know the basics of SQL, but here are a few quick refreshers if you're rusty.\n",
    "\n",
    "Some SQL basics and refreshers:\n",
    "- Every query is made up of a `SELECT` and `FROM` \n",
    "- Between those two, we list the columns, separated by a comma. \n",
    "- We can _alias_ columns or our data source using _as_ (technically not required, but a good idea)"
   ]
  },
  {
   "cell_type": "code",
   "execution_count": null,
   "metadata": {},
   "outputs": [],
   "source": [
    "%%sql \n",
    "SELECT\n",
    "    fullName as full_name,\n",
    "    weatherInfo as weather_info,\n",
    "    operatingHours as operating_hours\n",
    "FROM nps_public_data.parks as not_parks\n",
    "LIMIT 3"
   ]
  },
  {
   "cell_type": "markdown",
   "metadata": {},
   "source": [
    "If there's anything you don't know, feel free to poke around online or play around with the parks data loaded into this notebook.\n",
    "\n",
    "Otherwise, I highly encourage learning by observing and playing— feel free to open up a new cell, drop in `%%sql` and query some sample data! You can find out more about the database by running `SHOW ALL TABLES`"
   ]
  },
  {
   "cell_type": "code",
   "execution_count": null,
   "metadata": {},
   "outputs": [],
   "source": [
    "%%sql\n",
    "SHOW ALL TABLES"
   ]
  },
  {
   "cell_type": "markdown",
   "metadata": {},
   "source": [
    "Otherwise, let's talk a bit about structure.\n",
    "\n",
    "You'll notice my queries are formatted very precisely. Why do we do this? Well, simple— it's easy to read and it makes code repeatable, editable, and understandable. As we go through the course, pay attention to how queries and CTEs are structured.\n",
    "\n",
    "I'll be sure to call these out as we go along. There are also tools out there, called linters, that can automagically format the code in your SQL files & repos. [SQLfluff](https://www.sqlfluff.com/) is a good place to start! "
   ]
  }
 ],
 "metadata": {
  "kernelspec": {
   "display_name": "Python 3",
   "language": "python",
   "name": "python3"
  },
  "language_info": {
   "codemirror_mode": {
    "name": "ipython",
    "version": 3
   },
   "file_extension": ".py",
   "mimetype": "text/x-python",
   "name": "python",
   "nbconvert_exporter": "python",
   "pygments_lexer": "ipython3",
   "version": "3.12.1"
  }
 },
 "nbformat": 4,
 "nbformat_minor": 2
}
